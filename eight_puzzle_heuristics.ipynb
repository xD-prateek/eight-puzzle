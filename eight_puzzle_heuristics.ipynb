{
  "nbformat": 4,
  "nbformat_minor": 0,
  "metadata": {
    "colab": {
      "provenance": []
    },
    "kernelspec": {
      "name": "python3",
      "display_name": "Python 3"
    },
    "language_info": {
      "name": "python"
    }
  },
  "cells": [
    {
      "cell_type": "markdown",
      "source": [
        "# 8-puzzle\n",
        "Implementation and analysis of multiple heuristics"
      ],
      "metadata": {
        "id": "eaQorQyKWxVw"
      }
    },
    {
      "cell_type": "code",
      "source": [
        "import numpy as np\n",
        "import heapq as heap\n",
        "from queue import PriorityQueue\n",
        "from collections import deque\n",
        "import random\n",
        "import math\n",
        "import matplotlib.pyplot as plt"
      ],
      "metadata": {
        "id": "1K1UBLVhXM16"
      },
      "execution_count": null,
      "outputs": []
    },
    {
      "cell_type": "markdown",
      "source": [
        "A class implementing each state of an eight puzzle. \n",
        "\n",
        "The implementation of different **HEURISTICS** is present in this class\n",
        "\n",
        "\n",
        "> Note: This class can be extended for higher degree tile puzzles"
      ],
      "metadata": {
        "id": "GM_tL_r8Y8GW"
      }
    },
    {
      "cell_type": "code",
      "source": [
        "class State:\n",
        "    _heuristic = None\n",
        "    final_state = None\n",
        "\n",
        "    def __init__(self, state, parent, depth, heuristic = 'manhattan', final_state = np.array([[1, 2, 3], [4, 5, 6], [7, 8, 0]])):\n",
        "        self._heuristic = heuristic\n",
        "        self.final_state = final_state\n",
        "        state = np.array(state, dtype='u4')\n",
        "        shape = state.shape\n",
        "\n",
        "        if len(shape) == 1 and shape[0] == 9:\n",
        "            state = state.reshape((3, 3))\n",
        "        elif len(shape) == 2 and shape == (3, 3):\n",
        "            pass\n",
        "        else:\n",
        "            raise ValueError(\"Invalid input array shape!\")\n",
        "\n",
        "        # save the state\n",
        "        self.state = state\n",
        "        self.parent = parent\n",
        "        self.g = depth\n",
        "        self.h = self.__heuristic__()\n",
        "        self.f = self.g + self.h\n",
        "        # self.f = self.h\n",
        "        self.__verify__()\n",
        "\n",
        "        # print(f\"f: {self.f} = g: {self.g} + h: {h}\")\n",
        "\n",
        "    def __lt__(self, other):\n",
        "        return self.f < other.f\n",
        "\n",
        "    def __verify__(self):\n",
        "        # checks if the input state is valid\n",
        "        expected_set = set(range(9))\n",
        "        flat_matrix = [item for row in self.state for item in row]\n",
        "\n",
        "        if set(flat_matrix) == expected_set:\n",
        "            return True\n",
        "        else:\n",
        "            return False\n",
        "\n",
        "    def print(self):\n",
        "        # print the state\n",
        "        for row in self.state:\n",
        "            print(\"|\", end=\"\") # continue the same line\n",
        "            for num in row:\n",
        "                print(f\" {num} |\", end=\"\")\n",
        "            print() # print a new line\n",
        "\n",
        "    def __heuristic__(self):\n",
        "        # set the heuristic function\n",
        "        if self._heuristic == 'manhattan':\n",
        "            return self.__manhattan__()\n",
        "        elif self._heuristic == 'misplaced tiles':\n",
        "            return self.__misplaced_tiles__()\n",
        "        elif self._heuristic == 'nilsson sequence':\n",
        "            return self.__nilsson_sequence_score__()\n",
        "        elif self._heuristic == 'linear conflict':\n",
        "            return self.__linear_conflict__()\n",
        "        else:\n",
        "            return self.__absolver__()\n",
        "\n",
        "    # HEURISTIC FUNCTIONS\n",
        "    # Manhatten\n",
        "    def __manhattan__(self) -> int:\n",
        "        sum = 0\n",
        "        for i in range(3):\n",
        "            for j in range(3):\n",
        "                val = self.state[i][j]\n",
        "                if val:\n",
        "                    act = np.where(self.final_state == val)\n",
        "                    sum += abs(i - act[0]) + abs(j - act[1])    \n",
        "        return sum\n",
        "\n",
        "    # Misplaced tiles\n",
        "    def __misplaced_tiles__(self) -> int:\n",
        "        sum = 0\n",
        "        for i in range(3):\n",
        "            for j in range(3):\n",
        "                val = self.state[i][j]\n",
        "                if val and ([i], [j]) != np.where(self.final_state == val):\n",
        "                    sum += 1\n",
        "        return sum\n",
        "\n",
        "    \n",
        "\n",
        "    # Nilsson sequence score\n",
        "    # Uses the following goal state\n",
        "    # | 1 | 2 | 3 |\n",
        "    # | 8 | 0 | 4 |\n",
        "    # | 7 | 6 | 5 |\n",
        "    \"\"\"\n",
        "    Is not admissible.\n",
        "    \"\"\"\n",
        "    def __nilsson_sequence_score__(self) -> int:\n",
        "        s = 1 if self.state[(1, 1)] else 0 # Nilsson sequence sum init\n",
        "        n = 3 # sqrt(N + 1), where N is the number of tiles\n",
        "\n",
        "        def next(idx):\n",
        "            # spiral traversal to find the next index\n",
        "            new_idx = None\n",
        "\n",
        "            if idx[0] == 0 and idx[1] < n-1:\n",
        "                new_idx = (idx[0], idx[1] + 1)\n",
        "            elif idx[0] < n-1 and idx[1] == n-1:\n",
        "                new_idx = (idx[0] + 1, idx[1])\n",
        "            elif idx[0] == n-1 and idx[1] > 0:\n",
        "                new_idx = (idx[0], idx[1] - 1)\n",
        "            elif idx[0] > 0 and idx[1] == 0:\n",
        "                new_idx = (idx[0] - 1, idx[1])\n",
        "\n",
        "            return new_idx      \n",
        "\n",
        "        cur_idx = (0, 0)\n",
        "        for _ in range(n**2-1):\n",
        "            nxt_idx = next(cur_idx)\n",
        "\n",
        "            cur_val = self.state[cur_idx]\n",
        "            if cur_val:\n",
        "                nxt_val = self.state[nxt_idx]\n",
        "                # print(f\"cur_val: {cur_val}, next_val: {nxt_val}\")\n",
        "                if cur_val + 1 != nxt_val or not(cur_val == 8 and nxt_val == 0):\n",
        "                    s += 2\n",
        "            cur_idx = nxt_idx\n",
        "        \n",
        "        return self.__manhattan__()+3*s\n",
        "\n",
        "    \"\"\"\n",
        "    Jack Mostow and Armand E. Prieditis\n",
        "    ABSOLVER\n",
        "    1. REPRESENTATION: A problem class is represented in STRIPES-style.\n",
        "    2. ABSTRACTION: Some of the preconditions present are dropped to calculate the heuristic.\n",
        "    3. OPTIMIZATION: Optimizations are added to improve the performance of the heuristic and impart admissibility\n",
        "\n",
        "    Some of the derived heuristics include:\n",
        "    - Manhattan Distance (Implemented)\n",
        "    - n-Swap\n",
        "    - Misplaced tiles (Implemented)\n",
        "    - Euclidean distance\n",
        "    \"\"\"\n",
        "    def __absolver__(self):\n",
        "        if self._heuristic == 'nSwap' or self._heuristic == 'gasching':\n",
        "            return self.__nSwap__()\n",
        "        elif self._heuristic == 'euclidean':\n",
        "            return self.__euclidean__()\n",
        "        else:\n",
        "            raise NameError(\"Undefined heuristic.\")\n",
        "        \n",
        "\n",
        "    # relaxing adjacency constraint\n",
        "    def __nSwap__(self): # also known as gasching heuristic\n",
        "        n = 3\n",
        "        state = self.state.copy()\n",
        "\n",
        "        def max_manhattan():\n",
        "            # returns the position of the tile with maximum manhattan distance\n",
        "            ans = None\n",
        "            dist = 0\n",
        "            for i in range(n):\n",
        "                for j in range(n):\n",
        "                    if state[i][j]:\n",
        "                        act = np.where(self.final_state == state[i][j])\n",
        "                        val = abs(i - act[0]) + abs(j - act[1])\n",
        "                        if val > dist:\n",
        "                            ans = (i, j)\n",
        "            return ans\n",
        "\n",
        "        zero_pos = np.where(self.state == 0)\n",
        "        moves = 0\n",
        "\n",
        "        while not np.array_equal(state, self.final_state):\n",
        "            val = self.final_state[zero_pos]\n",
        "            val_pos = None\n",
        "            # print(val)\n",
        "            if val:\n",
        "                val_pos = np.where(state == val)\n",
        "                # print(\"Different position\")\n",
        "\n",
        "            else:\n",
        "                # choose the val which has maximum manhattan distance\n",
        "                val_pos = max_manhattan()\n",
        "                # print(f\"Equal zeros.\")              \n",
        "                \n",
        "            # print(f\"zero_pos: {zero_pos}, val_pose: {val_pos}\")\n",
        "            state[val_pos], state[zero_pos] = state[zero_pos], state[val_pos]\n",
        "            # self.print(state)\n",
        "            zero_pos = val_pos\n",
        "            moves += 1\n",
        "        return moves\n",
        "\n",
        "    def __euclidean__(self):\n",
        "        # Both euclidean and manhattan distances are based on geometrical knowledge\n",
        "        n = 3\n",
        "        sum = 0\n",
        "        for i in range(n):\n",
        "            for j in range(n):\n",
        "                val = self.state[i][j]\n",
        "                if val:\n",
        "                    act = np.where(self.final_state == val)\n",
        "                    dist = math.hypot(abs(i - act[0]), abs(j - act[1]))    \n",
        "                    sum += dist\n",
        "        return sum\n",
        "\n",
        "    \"\"\"\n",
        "    Hansson's method: The Linear conflict (Extension for Manhattan distance)\n",
        "    While in manhattan distance, a tile can move over other tiles present in its way;\n",
        "    In linear-conflict methodology, for two tiles to cross each other (if in conflict),\n",
        "    a minimum addition of two steps is required.\n",
        "    The Heuristic is admissible as it does not exceed the actual cost to the goal.\n",
        "    \"\"\"\n",
        "    def __linear_conflict__(self):\n",
        "        n = 3 # sqrt(N + 1), where N is the number of tiles\n",
        "        manhattan_distance = 0\n",
        "        for i in range(n):\n",
        "            for j in range(n):\n",
        "                val = self.state[i, j]\n",
        "                if val:\n",
        "                    goal_position = np.where(self.final_state == val)\n",
        "                    manhattan_distance += abs(i - goal_position[0][0]) + abs(j - goal_position[1][0])\n",
        "                    if i == goal_position[0][0] and j != goal_position[1][0]:\n",
        "                        for k in range(j+1, n):\n",
        "                            if self.state[i,k] in self.final_state[i] and self.state[i,j] in self.final_state[i]:\n",
        "                                manhattan_distance += 2\n",
        "                                # break\n",
        "                    elif i != goal_position[0][0] and j == goal_position[1][0]:\n",
        "                        for k in range(i+1, n):\n",
        "                            if self.state[k,j] in self.final_state[:,j] and self.state[i,j] in self.final_state[:,j]:\n",
        "                                manhattan_distance += 2\n",
        "                                # break\n",
        "        return manhattan_distance\n",
        "\n",
        "        # def rowLoc(row, query) -> int:\n",
        "        #     for j in range(n):\n",
        "        #         if query == self.final_state[row][j]:\n",
        "        #             return j\n",
        "        #     return -1\n",
        "\n",
        "        # for i in range(n): # row\n",
        "            \n",
        "        #     for k in range(n): # each element in row\n",
        "        #         # if (i, k) is in goal state row, get the goal state location\n",
        "        #         val_k = self.state[i][k]\n",
        "        #         if val_k:\n",
        "        #             val_k_goal = rowLoc(i, val_k)\n",
        "        #             if val_k_goal != -1:\n",
        "        #                 for j in range(k+1, n): # j lies on the right of k\n",
        "        #                     val_j = self.state[i][j]\n",
        "        #                     if val_j:\n",
        "        #                         val_j_goal = rowLoc(i, val_j)\n",
        "        #                         # print(f\"working row: {i}, val_k:{val_k}, val_k_goal:{val_k_goal}, val_j:{val_j}, val_j_goal:{val_j_goal}\")\n",
        "        #                         if val_j_goal != -1 and val_j_goal < val_k_goal: # the goal position of j must be before the goal position of k\n",
        "        #                             lc += 1\n",
        "        \n",
        "        # def colLoc(col, query) -> int:\n",
        "        #     for j in range(n):\n",
        "        #         if query == self.final_state[j][col]:\n",
        "        #             return j\n",
        "        #     return -1\n",
        "\n",
        "        # for i in range(n): # column\n",
        "\n",
        "        #     for k in range(n):\n",
        "        #         # if (k, i) is in goal state row, get the goal state location\n",
        "        #         val_k = self.state[k][i]\n",
        "        #         if val_k:\n",
        "        #             val_k_goal = colLoc(i, val_k)\n",
        "        #             if val_k_goal != -1:\n",
        "\n",
        "        #                 for j in range(k+1, n):\n",
        "        #                     val_j = self.state[j][i]\n",
        "        #                     if val_j:\n",
        "        #                         val_j_goal = colLoc(i, val_j)\n",
        "        #                         # print(f\"working col: {i}, val_k:{val_k}, val_k_goal:{val_k_goal}, val_j:{val_j}, val_j_goal:{val_j_goal}\")\n",
        "        #                         if val_j_goal != -1 and val_j_goal < val_k_goal:\n",
        "        #                             lc += 1\n",
        "        # # print(f\"lc:{lc} manhattan:{self.__manhattan__()}\")\n",
        "        # return lc * 2 + self.__manhattan__()"
      ],
      "metadata": {
        "id": "Wo_hNNDffa-j"
      },
      "execution_count": null,
      "outputs": []
    },
    {
      "cell_type": "markdown",
      "source": [
        "#### Test codes\n",
        "A check for each heuristic"
      ],
      "metadata": {
        "id": "c1pZjb99BE3d"
      }
    },
    {
      "cell_type": "code",
      "source": [
        "myState1 = State(np.array([[3, 1, 5], [7, 4, 0], [2, 8, 6]]), None, 0)\n",
        "print(myState1.f)"
      ],
      "metadata": {
        "colab": {
          "base_uri": "https://localhost:8080/"
        },
        "id": "ho2ihuc1MR4Q",
        "outputId": "52b34dc6-9025-43ac-eb39-cf34906f4ade"
      },
      "execution_count": null,
      "outputs": [
        {
          "output_type": "stream",
          "name": "stdout",
          "text": [
            "[11]\n"
          ]
        }
      ]
    },
    {
      "cell_type": "code",
      "source": [
        "myState2 = State(np.array([[3, 1, 5], [7, 4, 0], [2, 8, 6]]), None, 0, 'nilsson sequence', np.array([[1, 2, 3], [8, 0, 4], [7, 6, 5]]))\n",
        "print(myState2.f)"
      ],
      "metadata": {
        "colab": {
          "base_uri": "https://localhost:8080/"
        },
        "id": "2zOskkay2ErS",
        "outputId": "9b85fb71-7ef8-4c47-9abd-5a91cc9c49d7"
      },
      "execution_count": null,
      "outputs": [
        {
          "output_type": "stream",
          "name": "stdout",
          "text": [
            "[58]\n"
          ]
        }
      ]
    },
    {
      "cell_type": "code",
      "source": [
        "myState3 = State(np.array([[2, 7, 0], [5, 4, 3], [8, 1, 6]]), None, 0, 'linear conflict', np.array([[0, 1, 2], [3, 4, 5], [6, 7, 8]]))\n",
        "print(myState3.f)"
      ],
      "metadata": {
        "colab": {
          "base_uri": "https://localhost:8080/"
        },
        "id": "DjOMlMzaecnU",
        "outputId": "b6968e02-5d39-4848-fc4c-9757e455b664"
      },
      "execution_count": null,
      "outputs": [
        {
          "output_type": "stream",
          "name": "stdout",
          "text": [
            "26\n"
          ]
        }
      ]
    },
    {
      "cell_type": "code",
      "source": [
        "myState3 = State(np.array([[0, 2, 1], [7, 4, 5], [6, 3, 8]]), None, 0, 'linear conflict', np.array([[0, 1, 2], [3, 4, 5], [6, 7, 8]]))\n",
        "print(myState3.f)"
      ],
      "metadata": {
        "colab": {
          "base_uri": "https://localhost:8080/"
        },
        "id": "b5VWW37zmXPx",
        "outputId": "96443aae-b897-4560-98e4-e7565a49640e"
      },
      "execution_count": null,
      "outputs": [
        {
          "output_type": "stream",
          "name": "stdout",
          "text": [
            "8\n"
          ]
        }
      ]
    },
    {
      "cell_type": "code",
      "source": [
        "myState4 = State(np.array([[7, 2, 3], [5, 0, 6], [8, 4, 1]]), None, 0, 'nSwap', np.array([[0, 1, 2], [3, 4, 5], [6, 7, 8]]))\n",
        "print(myState4.f)"
      ],
      "metadata": {
        "colab": {
          "base_uri": "https://localhost:8080/"
        },
        "id": "5OoZFuPmvl7F",
        "outputId": "40a6652f-8a31-477d-ec74-c395978b6206"
      },
      "execution_count": null,
      "outputs": [
        {
          "output_type": "stream",
          "name": "stdout",
          "text": [
            "9\n"
          ]
        }
      ]
    },
    {
      "cell_type": "markdown",
      "source": [
        "## Eight Puzzle Design\n",
        "A class implementing A* search to solve 8Puzzle problem.\n",
        "The arguments being: *initial state*, *final_state*, *heuristic_function*"
      ],
      "metadata": {
        "id": "3yn4xAtiZiW6"
      }
    },
    {
      "cell_type": "code",
      "execution_count": null,
      "metadata": {
        "id": "zu8KAuaPQihb"
      },
      "outputs": [],
      "source": [
        "class EightPuzzle:\n",
        "\n",
        "    def __init__(self, initial_state, final_state = np.array([[1, 2, 3], [4, 5, 6], [7, 8, 0]]), heuristic = 'manhattan', show_states = False):\n",
        "        self.initial_state = initial_state\n",
        "        self.final_state = final_state\n",
        "        self.heuristic = heuristic\n",
        "        self.show_state(self.initial_state)\n",
        "        self.states = 0\n",
        "        self.show_states = show_states\n",
        "        \n",
        "    def solve(self):\n",
        "        start_state = State(self.initial_state, None, 0, self.heuristic)\n",
        "        heap = PriorityQueue()\n",
        "        heap.put(start_state)\n",
        "        visited = set()\n",
        "        visited.add(str(start_state.state))\n",
        "        # limit the computation to 5000 states\n",
        "        while heap and self.states < 5000:\n",
        "            new_state = heap.get()\n",
        "            \n",
        "            if np.array_equal(new_state.state, self.final_state):\n",
        "                self.get_path(new_state)\n",
        "                print(f\"completed! States generated: {self.states}\")\n",
        "                return new_state.g\n",
        "\n",
        "            # print states along with cost function \n",
        "            if self.show_states:\n",
        "                print(f\"f:{new_state.f} = g:{new_state.g} + h:{new_state.h}\")\n",
        "                self.show_state(new_state.state)\n",
        "            \n",
        "            for state in self.__get_children__(new_state.state):\n",
        "                if str(state) not in visited:\n",
        "                    self.states += 1\n",
        "                    visited.add(str(state))\n",
        "                    child = State(state, new_state, new_state.g + 1, self.heuristic)\n",
        "                    heap.put(child)\n",
        "        print(\"No solution in 5000 states!\")\n",
        "\n",
        "    def get_path(self, state):\n",
        "        stack = deque()\n",
        "        while state.parent:\n",
        "            stack.append(state.state)\n",
        "            # self.show_state(state.state)\n",
        "            state = state.parent\n",
        "        # stack.append(self.initial_state)\n",
        "        # self.show_state(self.initial_state)\n",
        "        while stack:\n",
        "            self.show_state(stack.pop())\n",
        "\n",
        "    def show_state(self, state):\n",
        "        # print the state\n",
        "        for i in range(3):\n",
        "            print(\"|\", end=\"\") # continue the same line\n",
        "            for j in range(3):\n",
        "                num = state[i][j]\n",
        "                print(f\" {num} |\", end=\"\")\n",
        "            print() # print a new line\n",
        "        print()\n",
        "    \n",
        "    def __get_children__(self, state):\n",
        "        children = []\n",
        "        # get the index of zero\n",
        "        zero = np.where(state == 0)\n",
        "        for x, y in [(1, 0), (-1, 0), (0, 1), (0, -1)]:\n",
        "            i = zero[0] + x\n",
        "            j = zero[1] + y\n",
        "            if 0 <= i < 3 and 0 <= j < 3:\n",
        "                child = state.copy()\n",
        "                child[zero], child[(i, j)] = child[(i, j)], child[zero]\n",
        "                children.append(child)\n",
        "        return children\n",
        "\n",
        "    def get_states(self):\n",
        "        return self.states"
      ]
    },
    {
      "cell_type": "markdown",
      "source": [
        "## 8-puzzle implementation"
      ],
      "metadata": {
        "id": "ULy7pN0WWuP-"
      }
    },
    {
      "cell_type": "markdown",
      "source": [
        "**State:**  \n",
        "\n",
        "||||\n",
        "|--|--|--|\n",
        "| 4 | 6 | 2 |                            \n",
        "| 7 | 3 | 1 |\n",
        "| 0 | 5 | 8 |\n",
        "\n",
        "**Goal:**\n",
        "\n",
        "||||\n",
        "|--|--|--|\n",
        "| 1 | 2 | 3 |                            \n",
        "| 8 | 0 | 4 |\n",
        "| 7 | 6 | 5 |\n",
        "\n",
        "**Heuristic:** *Manhattan distance*"
      ],
      "metadata": {
        "id": "twfopQZ8u-XG"
      }
    },
    {
      "cell_type": "markdown",
      "source": [
        "To calculate the Manhattan distance for a given tile, you simply add the horizontal distance and vertical distance between its current position and its goal position. The total heuristic value is the sum of Manhattan distances for all tiles in the puzzle."
      ],
      "metadata": {
        "id": "0lFxb_DjsJwG"
      }
    },
    {
      "cell_type": "code",
      "source": [
        "ep1 = EightPuzzle([[4, 6, 2], [7, 3, 1], [0, 5, 8]], final_state=[[1, 2, 3], [4, 5, 6], [7, 8, 0]], heuristic='manhattan')\n",
        "# solve 8 puzzle\n",
        "ep1.solve()"
      ],
      "metadata": {
        "colab": {
          "base_uri": "https://localhost:8080/"
        },
        "id": "kcA0gSZPWtko",
        "outputId": "6ad98745-2b6a-4880-fe7b-6daa897eeb36"
      },
      "execution_count": null,
      "outputs": [
        {
          "output_type": "stream",
          "name": "stdout",
          "text": [
            "| 4 | 6 | 2 |\n",
            "| 7 | 3 | 1 |\n",
            "| 0 | 5 | 8 |\n",
            "\n",
            "| 4 | 6 | 2 |\n",
            "| 0 | 3 | 1 |\n",
            "| 7 | 5 | 8 |\n",
            "\n",
            "| 4 | 6 | 2 |\n",
            "| 3 | 0 | 1 |\n",
            "| 7 | 5 | 8 |\n",
            "\n",
            "| 4 | 6 | 2 |\n",
            "| 3 | 1 | 0 |\n",
            "| 7 | 5 | 8 |\n",
            "\n",
            "| 4 | 6 | 0 |\n",
            "| 3 | 1 | 2 |\n",
            "| 7 | 5 | 8 |\n",
            "\n",
            "| 4 | 0 | 6 |\n",
            "| 3 | 1 | 2 |\n",
            "| 7 | 5 | 8 |\n",
            "\n",
            "| 4 | 1 | 6 |\n",
            "| 3 | 0 | 2 |\n",
            "| 7 | 5 | 8 |\n",
            "\n",
            "| 4 | 1 | 6 |\n",
            "| 0 | 3 | 2 |\n",
            "| 7 | 5 | 8 |\n",
            "\n",
            "| 0 | 1 | 6 |\n",
            "| 4 | 3 | 2 |\n",
            "| 7 | 5 | 8 |\n",
            "\n",
            "| 1 | 0 | 6 |\n",
            "| 4 | 3 | 2 |\n",
            "| 7 | 5 | 8 |\n",
            "\n",
            "| 1 | 3 | 6 |\n",
            "| 4 | 0 | 2 |\n",
            "| 7 | 5 | 8 |\n",
            "\n",
            "| 1 | 3 | 6 |\n",
            "| 4 | 2 | 0 |\n",
            "| 7 | 5 | 8 |\n",
            "\n",
            "| 1 | 3 | 0 |\n",
            "| 4 | 2 | 6 |\n",
            "| 7 | 5 | 8 |\n",
            "\n",
            "| 1 | 0 | 3 |\n",
            "| 4 | 2 | 6 |\n",
            "| 7 | 5 | 8 |\n",
            "\n",
            "| 1 | 2 | 3 |\n",
            "| 4 | 0 | 6 |\n",
            "| 7 | 5 | 8 |\n",
            "\n",
            "| 1 | 2 | 3 |\n",
            "| 4 | 5 | 6 |\n",
            "| 7 | 0 | 8 |\n",
            "\n",
            "| 1 | 2 | 3 |\n",
            "| 4 | 5 | 6 |\n",
            "| 7 | 8 | 0 |\n",
            "\n",
            "completed! States generated: 151\n"
          ]
        },
        {
          "output_type": "execute_result",
          "data": {
            "text/plain": [
              "16"
            ]
          },
          "metadata": {},
          "execution_count": 9
        }
      ]
    },
    {
      "cell_type": "markdown",
      "source": [
        "**State:**  \n",
        "\n",
        "||||\n",
        "|--|--|--|\n",
        "| 6 | 8 | 0 |                            \n",
        "| 2 | 5 | 3 |\n",
        "| 1 | 4 | 7 |\n",
        "\n",
        "**Goal:**\n",
        "\n",
        "||||\n",
        "|--|--|--|\n",
        "| 1 | 2 | 3 |                            \n",
        "| 4 | 5 | 6 |\n",
        "| 7 | 8 | 0 |\n",
        "\n",
        "**Heuristic:** *Misplaced tiles*"
      ],
      "metadata": {
        "id": "hh6cT9zhzXy0"
      }
    },
    {
      "cell_type": "markdown",
      "source": [
        "The misplaced tiles heuristic is a simple heuristic that counts the number of tiles that are in the wrong position in the puzzle. It is calculated by comparing the current state of the puzzle to the goal state and counting the number of tiles that are in different positions. "
      ],
      "metadata": {
        "id": "UJNkOSQ6sVi6"
      }
    },
    {
      "cell_type": "code",
      "source": [
        "ep2 = EightPuzzle([[6, 8, 0], [2, 5, 3], [1, 4, 7]], final_state = [[1, 2, 3], [4, 5, 6], [7, 8, 0]], heuristic = 'misplaced tiles')\n",
        "# solve 8 puzzle\n",
        "ep2.solve()"
      ],
      "metadata": {
        "colab": {
          "base_uri": "https://localhost:8080/"
        },
        "id": "q_C8tvLBsEmB",
        "outputId": "748235a8-e3cd-416b-b06a-83613b2bb4dc"
      },
      "execution_count": null,
      "outputs": [
        {
          "output_type": "stream",
          "name": "stdout",
          "text": [
            "| 6 | 8 | 0 |\n",
            "| 2 | 5 | 3 |\n",
            "| 1 | 4 | 7 |\n",
            "\n",
            "| 6 | 0 | 8 |\n",
            "| 2 | 5 | 3 |\n",
            "| 1 | 4 | 7 |\n",
            "\n",
            "| 0 | 6 | 8 |\n",
            "| 2 | 5 | 3 |\n",
            "| 1 | 4 | 7 |\n",
            "\n",
            "| 2 | 6 | 8 |\n",
            "| 0 | 5 | 3 |\n",
            "| 1 | 4 | 7 |\n",
            "\n",
            "| 2 | 6 | 8 |\n",
            "| 5 | 0 | 3 |\n",
            "| 1 | 4 | 7 |\n",
            "\n",
            "| 2 | 6 | 8 |\n",
            "| 5 | 3 | 0 |\n",
            "| 1 | 4 | 7 |\n",
            "\n",
            "| 2 | 6 | 0 |\n",
            "| 5 | 3 | 8 |\n",
            "| 1 | 4 | 7 |\n",
            "\n",
            "| 2 | 0 | 6 |\n",
            "| 5 | 3 | 8 |\n",
            "| 1 | 4 | 7 |\n",
            "\n",
            "| 2 | 3 | 6 |\n",
            "| 5 | 0 | 8 |\n",
            "| 1 | 4 | 7 |\n",
            "\n",
            "| 2 | 3 | 6 |\n",
            "| 0 | 5 | 8 |\n",
            "| 1 | 4 | 7 |\n",
            "\n",
            "| 2 | 3 | 6 |\n",
            "| 1 | 5 | 8 |\n",
            "| 0 | 4 | 7 |\n",
            "\n",
            "| 2 | 3 | 6 |\n",
            "| 1 | 5 | 8 |\n",
            "| 4 | 0 | 7 |\n",
            "\n",
            "| 2 | 3 | 6 |\n",
            "| 1 | 5 | 8 |\n",
            "| 4 | 7 | 0 |\n",
            "\n",
            "| 2 | 3 | 6 |\n",
            "| 1 | 5 | 0 |\n",
            "| 4 | 7 | 8 |\n",
            "\n",
            "| 2 | 3 | 0 |\n",
            "| 1 | 5 | 6 |\n",
            "| 4 | 7 | 8 |\n",
            "\n",
            "| 2 | 0 | 3 |\n",
            "| 1 | 5 | 6 |\n",
            "| 4 | 7 | 8 |\n",
            "\n",
            "| 0 | 2 | 3 |\n",
            "| 1 | 5 | 6 |\n",
            "| 4 | 7 | 8 |\n",
            "\n",
            "| 1 | 2 | 3 |\n",
            "| 0 | 5 | 6 |\n",
            "| 4 | 7 | 8 |\n",
            "\n",
            "| 1 | 2 | 3 |\n",
            "| 4 | 5 | 6 |\n",
            "| 0 | 7 | 8 |\n",
            "\n",
            "| 1 | 2 | 3 |\n",
            "| 4 | 5 | 6 |\n",
            "| 7 | 0 | 8 |\n",
            "\n",
            "| 1 | 2 | 3 |\n",
            "| 4 | 5 | 6 |\n",
            "| 7 | 8 | 0 |\n",
            "\n",
            "completed! States generated: 3971\n"
          ]
        },
        {
          "output_type": "execute_result",
          "data": {
            "text/plain": [
              "20"
            ]
          },
          "metadata": {},
          "execution_count": 10
        }
      ]
    },
    {
      "cell_type": "markdown",
      "source": [
        "**State:**  \n",
        "\n",
        "||||\n",
        "|--|--|--|\n",
        "| 1 | 0 | 3 |                            \n",
        "| 4 | 2 | 5 |\n",
        "| 8 | 7 | 6 |\n",
        "\n",
        "**Goal:**\n",
        "\n",
        "||||\n",
        "|--|--|--|\n",
        "| 1 | 2 | 3 |                            \n",
        "| 8 | 0 | 4 |\n",
        "| 7 | 6 | 5 |\n",
        "\n",
        "**Heuristic:** *Nilsson Sequence*"
      ],
      "metadata": {
        "id": "b0z9c-It0jS4"
      }
    },
    {
      "cell_type": "markdown",
      "source": [
        "Nilsson heuristic is a combination of Manhattan distance heuristic and sequence score heuristic. In this heuristic, the sum of Manhattan distance of each tile to its goal position is calculated, and then a sequence score is added to the Manhattan distance for each pair of tiles that are in their goal row or column, but not in the correct relative order. This sequence score represents the number of times the two tiles have to be exchanged in order to be in the correct order. The sum of the Manhattan distance and sequence score is used as the heuristic value. Nilsson heuristic is admissible, meaning it never overestimates the cost of reaching the goal state, and it takes into account more information than Manhattan distance or misplaced tiles heuristics alone, leading to a more informed search."
      ],
      "metadata": {
        "id": "l0A6OGmfvN7A"
      }
    },
    {
      "cell_type": "code",
      "source": [
        "ep3 = EightPuzzle([[1, 0, 3], [4, 2, 5], [8, 7, 6]], heuristic = 'nilsson sequence', final_state=[[1, 2, 3], [8, 0, 4], [7, 6, 5]])\n",
        "# solve 8 puzzle\n",
        "ep3.solve()"
      ],
      "metadata": {
        "id": "-8UATAeb29EX",
        "colab": {
          "base_uri": "https://localhost:8080/"
        },
        "outputId": "f706cd47-c8a8-476a-a76d-d4bffce3f60f"
      },
      "execution_count": null,
      "outputs": [
        {
          "output_type": "stream",
          "name": "stdout",
          "text": [
            "| 1 | 0 | 3 |\n",
            "| 4 | 2 | 5 |\n",
            "| 8 | 7 | 6 |\n",
            "\n",
            "| 1 | 2 | 3 |\n",
            "| 4 | 0 | 5 |\n",
            "| 8 | 7 | 6 |\n",
            "\n",
            "| 1 | 2 | 3 |\n",
            "| 0 | 4 | 5 |\n",
            "| 8 | 7 | 6 |\n",
            "\n",
            "| 1 | 2 | 3 |\n",
            "| 8 | 4 | 5 |\n",
            "| 0 | 7 | 6 |\n",
            "\n",
            "| 1 | 2 | 3 |\n",
            "| 8 | 4 | 5 |\n",
            "| 7 | 0 | 6 |\n",
            "\n",
            "| 1 | 2 | 3 |\n",
            "| 8 | 4 | 5 |\n",
            "| 7 | 6 | 0 |\n",
            "\n",
            "| 1 | 2 | 3 |\n",
            "| 8 | 4 | 0 |\n",
            "| 7 | 6 | 5 |\n",
            "\n",
            "| 1 | 2 | 3 |\n",
            "| 8 | 0 | 4 |\n",
            "| 7 | 6 | 5 |\n",
            "\n",
            "completed! States generated: 484\n"
          ]
        },
        {
          "output_type": "execute_result",
          "data": {
            "text/plain": [
              "7"
            ]
          },
          "metadata": {},
          "execution_count": 11
        }
      ]
    },
    {
      "cell_type": "markdown",
      "source": [
        "**State:**  \n",
        "\n",
        "||||\n",
        "|--|--|--|\n",
        "| 1 | 2 | 6 |                            \n",
        "| 5 | 0 | 8 |\n",
        "| 4 | 7 | 3 |\n",
        "\n",
        "**Goal:**\n",
        "\n",
        "||||\n",
        "|--|--|--|\n",
        "| 1 | 2 | 3 |                            \n",
        "| 4 | 5 | 6 |\n",
        "| 7 | 8 | 0 |\n",
        "\n",
        "**Heuristic:** *n Swap*"
      ],
      "metadata": {
        "id": "N8ZWi0Ed1g_P"
      }
    },
    {
      "cell_type": "markdown",
      "source": [
        "This heuristic measures the number of adjacent pairs of tiles in the current state that are not in their correct positions and require swapping to reach the goal state."
      ],
      "metadata": {
        "id": "o-R7VZq2vfgs"
      }
    },
    {
      "cell_type": "code",
      "source": [
        "ep4 = EightPuzzle([[1, 2, 6], [5, 0, 8], [4, 7, 3]], heuristic = 'nSwap', final_state = [[1, 2, 3], [4, 5, 6], [7, 8, 0]])\n",
        "# solve 8 puzzle\n",
        "ep4.solve()"
      ],
      "metadata": {
        "id": "Y_VIZkP-3jT-",
        "colab": {
          "base_uri": "https://localhost:8080/"
        },
        "outputId": "747b1cf2-6859-459d-806b-9ecfb4e24162"
      },
      "execution_count": null,
      "outputs": [
        {
          "output_type": "stream",
          "name": "stdout",
          "text": [
            "| 1 | 2 | 6 |\n",
            "| 5 | 0 | 8 |\n",
            "| 4 | 7 | 3 |\n",
            "\n",
            "| 1 | 2 | 6 |\n",
            "| 0 | 5 | 8 |\n",
            "| 4 | 7 | 3 |\n",
            "\n",
            "| 1 | 2 | 6 |\n",
            "| 4 | 5 | 8 |\n",
            "| 0 | 7 | 3 |\n",
            "\n",
            "| 1 | 2 | 6 |\n",
            "| 4 | 5 | 8 |\n",
            "| 7 | 0 | 3 |\n",
            "\n",
            "| 1 | 2 | 6 |\n",
            "| 4 | 5 | 8 |\n",
            "| 7 | 3 | 0 |\n",
            "\n",
            "| 1 | 2 | 6 |\n",
            "| 4 | 5 | 0 |\n",
            "| 7 | 3 | 8 |\n",
            "\n",
            "| 1 | 2 | 0 |\n",
            "| 4 | 5 | 6 |\n",
            "| 7 | 3 | 8 |\n",
            "\n",
            "| 1 | 0 | 2 |\n",
            "| 4 | 5 | 6 |\n",
            "| 7 | 3 | 8 |\n",
            "\n",
            "| 1 | 5 | 2 |\n",
            "| 4 | 0 | 6 |\n",
            "| 7 | 3 | 8 |\n",
            "\n",
            "| 1 | 5 | 2 |\n",
            "| 4 | 3 | 6 |\n",
            "| 7 | 0 | 8 |\n",
            "\n",
            "| 1 | 5 | 2 |\n",
            "| 4 | 3 | 6 |\n",
            "| 7 | 8 | 0 |\n",
            "\n",
            "| 1 | 5 | 2 |\n",
            "| 4 | 3 | 0 |\n",
            "| 7 | 8 | 6 |\n",
            "\n",
            "| 1 | 5 | 2 |\n",
            "| 4 | 0 | 3 |\n",
            "| 7 | 8 | 6 |\n",
            "\n",
            "| 1 | 0 | 2 |\n",
            "| 4 | 5 | 3 |\n",
            "| 7 | 8 | 6 |\n",
            "\n",
            "| 1 | 2 | 0 |\n",
            "| 4 | 5 | 3 |\n",
            "| 7 | 8 | 6 |\n",
            "\n",
            "| 1 | 2 | 3 |\n",
            "| 4 | 5 | 0 |\n",
            "| 7 | 8 | 6 |\n",
            "\n",
            "| 1 | 2 | 3 |\n",
            "| 4 | 5 | 6 |\n",
            "| 7 | 8 | 0 |\n",
            "\n",
            "completed! States generated: 841\n"
          ]
        },
        {
          "output_type": "execute_result",
          "data": {
            "text/plain": [
              "16"
            ]
          },
          "metadata": {},
          "execution_count": 12
        }
      ]
    },
    {
      "cell_type": "markdown",
      "source": [
        "**State:**  \n",
        "\n",
        "||||\n",
        "|--|--|--|\n",
        "| 0 | 1 | 6 |                            \n",
        "| 2 | 5 | 8 |\n",
        "| 4 | 3 | 7 |\n",
        "\n",
        "**Goal:**\n",
        "\n",
        "||||\n",
        "|--|--|--|\n",
        "| 1 | 2 | 3 |                            \n",
        "| 4 | 5 | 6 |\n",
        "| 7 | 8 | 0 |\n",
        "\n",
        "**Heuristic:** *euclidean*"
      ],
      "metadata": {
        "id": "4LwOCY1-2ZE0"
      }
    },
    {
      "cell_type": "markdown",
      "source": [
        "Euclidean distance is useful when the exact location of the points matters, while Manhattan distance is useful when movement is restricted to the grid-like paths."
      ],
      "metadata": {
        "id": "GG8r0Ye8viI-"
      }
    },
    {
      "cell_type": "code",
      "source": [
        "ep5 = EightPuzzle([[0, 1, 6], [2, 5, 8], [4, 3, 7]], heuristic = 'euclidean', final_state = [[1, 2, 3], [4, 5, 6], [7, 8, 0]])\n",
        "# solve 8 puzzle\n",
        "ep5.solve()"
      ],
      "metadata": {
        "id": "uxRdZ62dBmoy",
        "colab": {
          "base_uri": "https://localhost:8080/"
        },
        "outputId": "955df792-626a-4ee1-eacb-51d07703d161"
      },
      "execution_count": null,
      "outputs": [
        {
          "output_type": "stream",
          "name": "stdout",
          "text": [
            "| 0 | 1 | 6 |\n",
            "| 2 | 5 | 8 |\n",
            "| 4 | 3 | 7 |\n",
            "\n",
            "| 1 | 0 | 6 |\n",
            "| 2 | 5 | 8 |\n",
            "| 4 | 3 | 7 |\n",
            "\n",
            "| 1 | 5 | 6 |\n",
            "| 2 | 0 | 8 |\n",
            "| 4 | 3 | 7 |\n",
            "\n",
            "| 1 | 5 | 6 |\n",
            "| 2 | 3 | 8 |\n",
            "| 4 | 0 | 7 |\n",
            "\n",
            "| 1 | 5 | 6 |\n",
            "| 2 | 3 | 8 |\n",
            "| 4 | 7 | 0 |\n",
            "\n",
            "| 1 | 5 | 6 |\n",
            "| 2 | 3 | 0 |\n",
            "| 4 | 7 | 8 |\n",
            "\n",
            "| 1 | 5 | 0 |\n",
            "| 2 | 3 | 6 |\n",
            "| 4 | 7 | 8 |\n",
            "\n",
            "| 1 | 0 | 5 |\n",
            "| 2 | 3 | 6 |\n",
            "| 4 | 7 | 8 |\n",
            "\n",
            "| 1 | 3 | 5 |\n",
            "| 2 | 0 | 6 |\n",
            "| 4 | 7 | 8 |\n",
            "\n",
            "| 1 | 3 | 5 |\n",
            "| 0 | 2 | 6 |\n",
            "| 4 | 7 | 8 |\n",
            "\n",
            "| 1 | 3 | 5 |\n",
            "| 4 | 2 | 6 |\n",
            "| 0 | 7 | 8 |\n",
            "\n",
            "| 1 | 3 | 5 |\n",
            "| 4 | 2 | 6 |\n",
            "| 7 | 0 | 8 |\n",
            "\n",
            "| 1 | 3 | 5 |\n",
            "| 4 | 2 | 6 |\n",
            "| 7 | 8 | 0 |\n",
            "\n",
            "| 1 | 3 | 5 |\n",
            "| 4 | 2 | 0 |\n",
            "| 7 | 8 | 6 |\n",
            "\n",
            "| 1 | 3 | 0 |\n",
            "| 4 | 2 | 5 |\n",
            "| 7 | 8 | 6 |\n",
            "\n",
            "| 1 | 0 | 3 |\n",
            "| 4 | 2 | 5 |\n",
            "| 7 | 8 | 6 |\n",
            "\n",
            "| 1 | 2 | 3 |\n",
            "| 4 | 0 | 5 |\n",
            "| 7 | 8 | 6 |\n",
            "\n",
            "| 1 | 2 | 3 |\n",
            "| 4 | 5 | 0 |\n",
            "| 7 | 8 | 6 |\n",
            "\n",
            "| 1 | 2 | 3 |\n",
            "| 4 | 5 | 6 |\n",
            "| 7 | 8 | 0 |\n",
            "\n",
            "completed! States generated: 469\n"
          ]
        },
        {
          "output_type": "execute_result",
          "data": {
            "text/plain": [
              "18"
            ]
          },
          "metadata": {},
          "execution_count": 13
        }
      ]
    },
    {
      "cell_type": "markdown",
      "source": [
        "**State:**  \n",
        "\n",
        "||||\n",
        "|--|--|--|\n",
        "| 3 | 8 | 0 |                            \n",
        "| 6 | 1 | 7 |\n",
        "| 4 | 2 | 5 |\n",
        "\n",
        "**Goal:**\n",
        "\n",
        "||||\n",
        "|--|--|--|\n",
        "| 1 | 2 | 3 |                            \n",
        "| 4 | 5 | 6 |\n",
        "| 7 | 8 | 0 |\n",
        "\n",
        "**Heuristic:** *Linear conflict*"
      ],
      "metadata": {
        "id": "Ef8UOe4N6-IM"
      }
    },
    {
      "cell_type": "markdown",
      "source": [
        "Linear Conflict takes into account additional conflicts that may occur when two tiles need to swap positions in order to reach their final position. These conflicts can create additional moves that Manhattan distance does not account for, so Linear Conflict is considered to be a more informed heuristic than Manhattan distance."
      ],
      "metadata": {
        "id": "EgHwMHZBrmpI"
      }
    },
    {
      "cell_type": "code",
      "source": [
        "ep6 = EightPuzzle([[1, 4, 2], [6, 3, 5], [7, 8, 0]], heuristic = 'linear conflict', final_state=[[0, 1, 2], [3, 4, 5], [6, 7, 8]])\n",
        "# solve 8 puzzle\n",
        "ep6.solve()"
      ],
      "metadata": {
        "id": "buvIhXKc6D96",
        "colab": {
          "base_uri": "https://localhost:8080/"
        },
        "outputId": "ef369960-d0a1-42eb-e377-c9fd9956a711"
      },
      "execution_count": null,
      "outputs": [
        {
          "output_type": "stream",
          "name": "stdout",
          "text": [
            "| 1 | 4 | 2 |\n",
            "| 6 | 3 | 5 |\n",
            "| 7 | 8 | 0 |\n",
            "\n",
            "| 1 | 4 | 2 |\n",
            "| 6 | 3 | 5 |\n",
            "| 7 | 0 | 8 |\n",
            "\n",
            "| 1 | 4 | 2 |\n",
            "| 6 | 3 | 5 |\n",
            "| 0 | 7 | 8 |\n",
            "\n",
            "| 1 | 4 | 2 |\n",
            "| 0 | 3 | 5 |\n",
            "| 6 | 7 | 8 |\n",
            "\n",
            "| 1 | 4 | 2 |\n",
            "| 3 | 0 | 5 |\n",
            "| 6 | 7 | 8 |\n",
            "\n",
            "| 1 | 0 | 2 |\n",
            "| 3 | 4 | 5 |\n",
            "| 6 | 7 | 8 |\n",
            "\n",
            "| 0 | 1 | 2 |\n",
            "| 3 | 4 | 5 |\n",
            "| 6 | 7 | 8 |\n",
            "\n",
            "completed! States generated: 1924\n"
          ]
        },
        {
          "output_type": "execute_result",
          "data": {
            "text/plain": [
              "6"
            ]
          },
          "metadata": {},
          "execution_count": 14
        }
      ]
    },
    {
      "cell_type": "markdown",
      "source": [
        "## Comparision\n",
        "1. Misplaced Tiles\n",
        "2. Manhattan Distance\n",
        "3. Euclidean Distance\n",
        "4. n-Swap\n",
        "5. Linear Conflict\n",
        "\n",
        "> **Note:**  \n",
        "> Nilsson's heuristic a.k.a. `sequence score` works on spiral type of goal state. An example of Nilsson's heurisstic is implemented above."
      ],
      "metadata": {
        "id": "jXSw8hZCsliv"
      }
    },
    {
      "cell_type": "markdown",
      "source": [
        "**State:**  \n",
        "\n",
        "||||\n",
        "|--|--|--|\n",
        "| 5 | 1 | 3 |                            \n",
        "| 6 | 0 | 7 |\n",
        "| 2 | 8 | 4 |\n",
        "\n",
        "**Goal:**\n",
        "\n",
        "||||\n",
        "|--|--|--|\n",
        "| 1 | 2 | 3 |                            \n",
        "| 4 | 5 | 6 |\n",
        "| 7 | 8 | 0 |\n",
        "\n",
        "*Implementing all heuristics*"
      ],
      "metadata": {
        "id": "cBf9oO68mMpd"
      }
    },
    {
      "cell_type": "code",
      "source": [
        "start = [[5, 1, 3], [6, 0, 7], [2, 8, 4]]\n",
        "goal = [[1, 2, 3], [4, 5, 6], [7, 8, 0]]\n",
        "\n",
        "# create labels of heuristics\n",
        "labels = ['misplaced tiles', 'manhattan', 'euclidean', 'nSwap', 'linear conflict']\n",
        "states = []\n",
        "cost = []\n",
        "\n",
        "# change to TRUE to examine the states\n",
        "view_states = False\n",
        "\n",
        "for label in labels:\n",
        "    print(f\"using {label} heuristic...\")\n",
        "    eight_puzzle = EightPuzzle(start, heuristic = label, final_state = goal, show_states = view_states)\n",
        "    cost.append(eight_puzzle.solve())\n",
        "    states.append(eight_puzzle.get_states())\n",
        "    print()"
      ],
      "metadata": {
        "colab": {
          "base_uri": "https://localhost:8080/"
        },
        "id": "y7lsCmbH-PP0",
        "outputId": "711c34f3-549b-4729-b818-50c051d1fe69"
      },
      "execution_count": null,
      "outputs": [
        {
          "output_type": "stream",
          "name": "stdout",
          "text": [
            "using misplaced tiles heuristic...\n",
            "| 5 | 1 | 3 |\n",
            "| 6 | 0 | 7 |\n",
            "| 2 | 8 | 4 |\n",
            "\n",
            "| 5 | 1 | 3 |\n",
            "| 6 | 8 | 7 |\n",
            "| 2 | 0 | 4 |\n",
            "\n",
            "| 5 | 1 | 3 |\n",
            "| 6 | 8 | 7 |\n",
            "| 2 | 4 | 0 |\n",
            "\n",
            "| 5 | 1 | 3 |\n",
            "| 6 | 8 | 0 |\n",
            "| 2 | 4 | 7 |\n",
            "\n",
            "| 5 | 1 | 3 |\n",
            "| 6 | 0 | 8 |\n",
            "| 2 | 4 | 7 |\n",
            "\n",
            "| 5 | 1 | 3 |\n",
            "| 0 | 6 | 8 |\n",
            "| 2 | 4 | 7 |\n",
            "\n",
            "| 5 | 1 | 3 |\n",
            "| 2 | 6 | 8 |\n",
            "| 0 | 4 | 7 |\n",
            "\n",
            "| 5 | 1 | 3 |\n",
            "| 2 | 6 | 8 |\n",
            "| 4 | 0 | 7 |\n",
            "\n",
            "| 5 | 1 | 3 |\n",
            "| 2 | 6 | 8 |\n",
            "| 4 | 7 | 0 |\n",
            "\n",
            "| 5 | 1 | 3 |\n",
            "| 2 | 6 | 0 |\n",
            "| 4 | 7 | 8 |\n",
            "\n",
            "| 5 | 1 | 3 |\n",
            "| 2 | 0 | 6 |\n",
            "| 4 | 7 | 8 |\n",
            "\n",
            "| 5 | 1 | 3 |\n",
            "| 0 | 2 | 6 |\n",
            "| 4 | 7 | 8 |\n",
            "\n",
            "| 0 | 1 | 3 |\n",
            "| 5 | 2 | 6 |\n",
            "| 4 | 7 | 8 |\n",
            "\n",
            "| 1 | 0 | 3 |\n",
            "| 5 | 2 | 6 |\n",
            "| 4 | 7 | 8 |\n",
            "\n",
            "| 1 | 2 | 3 |\n",
            "| 5 | 0 | 6 |\n",
            "| 4 | 7 | 8 |\n",
            "\n",
            "| 1 | 2 | 3 |\n",
            "| 0 | 5 | 6 |\n",
            "| 4 | 7 | 8 |\n",
            "\n",
            "| 1 | 2 | 3 |\n",
            "| 4 | 5 | 6 |\n",
            "| 0 | 7 | 8 |\n",
            "\n",
            "| 1 | 2 | 3 |\n",
            "| 4 | 5 | 6 |\n",
            "| 7 | 0 | 8 |\n",
            "\n",
            "| 1 | 2 | 3 |\n",
            "| 4 | 5 | 6 |\n",
            "| 7 | 8 | 0 |\n",
            "\n",
            "completed! States generated: 2147\n",
            "\n",
            "using manhattan heuristic...\n",
            "| 5 | 1 | 3 |\n",
            "| 6 | 0 | 7 |\n",
            "| 2 | 8 | 4 |\n",
            "\n",
            "| 5 | 1 | 3 |\n",
            "| 6 | 8 | 7 |\n",
            "| 2 | 0 | 4 |\n",
            "\n",
            "| 5 | 1 | 3 |\n",
            "| 6 | 8 | 7 |\n",
            "| 2 | 4 | 0 |\n",
            "\n",
            "| 5 | 1 | 3 |\n",
            "| 6 | 8 | 0 |\n",
            "| 2 | 4 | 7 |\n",
            "\n",
            "| 5 | 1 | 3 |\n",
            "| 6 | 0 | 8 |\n",
            "| 2 | 4 | 7 |\n",
            "\n",
            "| 5 | 1 | 3 |\n",
            "| 0 | 6 | 8 |\n",
            "| 2 | 4 | 7 |\n",
            "\n",
            "| 5 | 1 | 3 |\n",
            "| 2 | 6 | 8 |\n",
            "| 0 | 4 | 7 |\n",
            "\n",
            "| 5 | 1 | 3 |\n",
            "| 2 | 6 | 8 |\n",
            "| 4 | 0 | 7 |\n",
            "\n",
            "| 5 | 1 | 3 |\n",
            "| 2 | 6 | 8 |\n",
            "| 4 | 7 | 0 |\n",
            "\n",
            "| 5 | 1 | 3 |\n",
            "| 2 | 6 | 0 |\n",
            "| 4 | 7 | 8 |\n",
            "\n",
            "| 5 | 1 | 3 |\n",
            "| 2 | 0 | 6 |\n",
            "| 4 | 7 | 8 |\n",
            "\n",
            "| 5 | 1 | 3 |\n",
            "| 0 | 2 | 6 |\n",
            "| 4 | 7 | 8 |\n",
            "\n",
            "| 0 | 1 | 3 |\n",
            "| 5 | 2 | 6 |\n",
            "| 4 | 7 | 8 |\n",
            "\n",
            "| 1 | 0 | 3 |\n",
            "| 5 | 2 | 6 |\n",
            "| 4 | 7 | 8 |\n",
            "\n",
            "| 1 | 2 | 3 |\n",
            "| 5 | 0 | 6 |\n",
            "| 4 | 7 | 8 |\n",
            "\n",
            "| 1 | 2 | 3 |\n",
            "| 0 | 5 | 6 |\n",
            "| 4 | 7 | 8 |\n",
            "\n",
            "| 1 | 2 | 3 |\n",
            "| 4 | 5 | 6 |\n",
            "| 0 | 7 | 8 |\n",
            "\n",
            "| 1 | 2 | 3 |\n",
            "| 4 | 5 | 6 |\n",
            "| 7 | 0 | 8 |\n",
            "\n",
            "| 1 | 2 | 3 |\n",
            "| 4 | 5 | 6 |\n",
            "| 7 | 8 | 0 |\n",
            "\n",
            "completed! States generated: 258\n",
            "\n",
            "using euclidean heuristic...\n",
            "| 5 | 1 | 3 |\n",
            "| 6 | 0 | 7 |\n",
            "| 2 | 8 | 4 |\n",
            "\n",
            "| 5 | 1 | 3 |\n",
            "| 6 | 8 | 7 |\n",
            "| 2 | 0 | 4 |\n",
            "\n",
            "| 5 | 1 | 3 |\n",
            "| 6 | 8 | 7 |\n",
            "| 2 | 4 | 0 |\n",
            "\n",
            "| 5 | 1 | 3 |\n",
            "| 6 | 8 | 0 |\n",
            "| 2 | 4 | 7 |\n",
            "\n",
            "| 5 | 1 | 3 |\n",
            "| 6 | 0 | 8 |\n",
            "| 2 | 4 | 7 |\n",
            "\n",
            "| 5 | 1 | 3 |\n",
            "| 0 | 6 | 8 |\n",
            "| 2 | 4 | 7 |\n",
            "\n",
            "| 5 | 1 | 3 |\n",
            "| 2 | 6 | 8 |\n",
            "| 0 | 4 | 7 |\n",
            "\n",
            "| 5 | 1 | 3 |\n",
            "| 2 | 6 | 8 |\n",
            "| 4 | 0 | 7 |\n",
            "\n",
            "| 5 | 1 | 3 |\n",
            "| 2 | 6 | 8 |\n",
            "| 4 | 7 | 0 |\n",
            "\n",
            "| 5 | 1 | 3 |\n",
            "| 2 | 6 | 0 |\n",
            "| 4 | 7 | 8 |\n",
            "\n",
            "| 5 | 1 | 3 |\n",
            "| 2 | 0 | 6 |\n",
            "| 4 | 7 | 8 |\n",
            "\n",
            "| 5 | 1 | 3 |\n",
            "| 0 | 2 | 6 |\n",
            "| 4 | 7 | 8 |\n",
            "\n",
            "| 0 | 1 | 3 |\n",
            "| 5 | 2 | 6 |\n",
            "| 4 | 7 | 8 |\n",
            "\n",
            "| 1 | 0 | 3 |\n",
            "| 5 | 2 | 6 |\n",
            "| 4 | 7 | 8 |\n",
            "\n",
            "| 1 | 2 | 3 |\n",
            "| 5 | 0 | 6 |\n",
            "| 4 | 7 | 8 |\n",
            "\n",
            "| 1 | 2 | 3 |\n",
            "| 0 | 5 | 6 |\n",
            "| 4 | 7 | 8 |\n",
            "\n",
            "| 1 | 2 | 3 |\n",
            "| 4 | 5 | 6 |\n",
            "| 0 | 7 | 8 |\n",
            "\n",
            "| 1 | 2 | 3 |\n",
            "| 4 | 5 | 6 |\n",
            "| 7 | 0 | 8 |\n",
            "\n",
            "| 1 | 2 | 3 |\n",
            "| 4 | 5 | 6 |\n",
            "| 7 | 8 | 0 |\n",
            "\n",
            "completed! States generated: 420\n",
            "\n",
            "using nSwap heuristic...\n",
            "| 5 | 1 | 3 |\n",
            "| 6 | 0 | 7 |\n",
            "| 2 | 8 | 4 |\n",
            "\n",
            "| 5 | 1 | 3 |\n",
            "| 6 | 8 | 7 |\n",
            "| 2 | 0 | 4 |\n",
            "\n",
            "| 5 | 1 | 3 |\n",
            "| 6 | 8 | 7 |\n",
            "| 2 | 4 | 0 |\n",
            "\n",
            "| 5 | 1 | 3 |\n",
            "| 6 | 8 | 0 |\n",
            "| 2 | 4 | 7 |\n",
            "\n",
            "| 5 | 1 | 3 |\n",
            "| 6 | 0 | 8 |\n",
            "| 2 | 4 | 7 |\n",
            "\n",
            "| 5 | 1 | 3 |\n",
            "| 0 | 6 | 8 |\n",
            "| 2 | 4 | 7 |\n",
            "\n",
            "| 5 | 1 | 3 |\n",
            "| 2 | 6 | 8 |\n",
            "| 0 | 4 | 7 |\n",
            "\n",
            "| 5 | 1 | 3 |\n",
            "| 2 | 6 | 8 |\n",
            "| 4 | 0 | 7 |\n",
            "\n",
            "| 5 | 1 | 3 |\n",
            "| 2 | 6 | 8 |\n",
            "| 4 | 7 | 0 |\n",
            "\n",
            "| 5 | 1 | 3 |\n",
            "| 2 | 6 | 0 |\n",
            "| 4 | 7 | 8 |\n",
            "\n",
            "| 5 | 1 | 3 |\n",
            "| 2 | 0 | 6 |\n",
            "| 4 | 7 | 8 |\n",
            "\n",
            "| 5 | 1 | 3 |\n",
            "| 0 | 2 | 6 |\n",
            "| 4 | 7 | 8 |\n",
            "\n",
            "| 0 | 1 | 3 |\n",
            "| 5 | 2 | 6 |\n",
            "| 4 | 7 | 8 |\n",
            "\n",
            "| 1 | 0 | 3 |\n",
            "| 5 | 2 | 6 |\n",
            "| 4 | 7 | 8 |\n",
            "\n",
            "| 1 | 2 | 3 |\n",
            "| 5 | 0 | 6 |\n",
            "| 4 | 7 | 8 |\n",
            "\n",
            "| 1 | 2 | 3 |\n",
            "| 0 | 5 | 6 |\n",
            "| 4 | 7 | 8 |\n",
            "\n",
            "| 1 | 2 | 3 |\n",
            "| 4 | 5 | 6 |\n",
            "| 0 | 7 | 8 |\n",
            "\n",
            "| 1 | 2 | 3 |\n",
            "| 4 | 5 | 6 |\n",
            "| 7 | 0 | 8 |\n",
            "\n",
            "| 1 | 2 | 3 |\n",
            "| 4 | 5 | 6 |\n",
            "| 7 | 8 | 0 |\n",
            "\n",
            "completed! States generated: 2259\n",
            "\n",
            "using linear conflict heuristic...\n",
            "| 5 | 1 | 3 |\n",
            "| 6 | 0 | 7 |\n",
            "| 2 | 8 | 4 |\n",
            "\n",
            "| 5 | 1 | 3 |\n",
            "| 0 | 6 | 7 |\n",
            "| 2 | 8 | 4 |\n",
            "\n",
            "| 5 | 1 | 3 |\n",
            "| 2 | 6 | 7 |\n",
            "| 0 | 8 | 4 |\n",
            "\n",
            "| 5 | 1 | 3 |\n",
            "| 2 | 6 | 7 |\n",
            "| 8 | 0 | 4 |\n",
            "\n",
            "| 5 | 1 | 3 |\n",
            "| 2 | 6 | 7 |\n",
            "| 8 | 4 | 0 |\n",
            "\n",
            "| 5 | 1 | 3 |\n",
            "| 2 | 6 | 0 |\n",
            "| 8 | 4 | 7 |\n",
            "\n",
            "| 5 | 1 | 3 |\n",
            "| 2 | 0 | 6 |\n",
            "| 8 | 4 | 7 |\n",
            "\n",
            "| 5 | 1 | 3 |\n",
            "| 0 | 2 | 6 |\n",
            "| 8 | 4 | 7 |\n",
            "\n",
            "| 0 | 1 | 3 |\n",
            "| 5 | 2 | 6 |\n",
            "| 8 | 4 | 7 |\n",
            "\n",
            "| 1 | 0 | 3 |\n",
            "| 5 | 2 | 6 |\n",
            "| 8 | 4 | 7 |\n",
            "\n",
            "| 1 | 2 | 3 |\n",
            "| 5 | 0 | 6 |\n",
            "| 8 | 4 | 7 |\n",
            "\n",
            "| 1 | 2 | 3 |\n",
            "| 0 | 5 | 6 |\n",
            "| 8 | 4 | 7 |\n",
            "\n",
            "| 1 | 2 | 3 |\n",
            "| 8 | 5 | 6 |\n",
            "| 0 | 4 | 7 |\n",
            "\n",
            "| 1 | 2 | 3 |\n",
            "| 8 | 5 | 6 |\n",
            "| 4 | 0 | 7 |\n",
            "\n",
            "| 1 | 2 | 3 |\n",
            "| 8 | 5 | 6 |\n",
            "| 4 | 7 | 0 |\n",
            "\n",
            "| 1 | 2 | 3 |\n",
            "| 8 | 5 | 0 |\n",
            "| 4 | 7 | 6 |\n",
            "\n",
            "| 1 | 2 | 3 |\n",
            "| 8 | 0 | 5 |\n",
            "| 4 | 7 | 6 |\n",
            "\n",
            "| 1 | 2 | 3 |\n",
            "| 0 | 8 | 5 |\n",
            "| 4 | 7 | 6 |\n",
            "\n",
            "| 1 | 2 | 3 |\n",
            "| 4 | 8 | 5 |\n",
            "| 0 | 7 | 6 |\n",
            "\n",
            "| 1 | 2 | 3 |\n",
            "| 4 | 8 | 5 |\n",
            "| 7 | 0 | 6 |\n",
            "\n",
            "| 1 | 2 | 3 |\n",
            "| 4 | 0 | 5 |\n",
            "| 7 | 8 | 6 |\n",
            "\n",
            "| 1 | 2 | 3 |\n",
            "| 4 | 5 | 0 |\n",
            "| 7 | 8 | 6 |\n",
            "\n",
            "| 1 | 2 | 3 |\n",
            "| 4 | 5 | 6 |\n",
            "| 7 | 8 | 0 |\n",
            "\n",
            "completed! States generated: 680\n",
            "\n"
          ]
        }
      ]
    },
    {
      "cell_type": "code",
      "source": [
        "# Create bar chart\n",
        "plt.bar(labels, states)\n",
        "\n",
        "# Set chart title and axis labels\n",
        "plt.title('Heuristic comparision')\n",
        "plt.xlabel('Categories')\n",
        "plt.ylabel('Nodes generated')\n",
        "\n",
        "# Show chart\n",
        "plt.show()"
      ],
      "metadata": {
        "colab": {
          "base_uri": "https://localhost:8080/",
          "height": 472
        },
        "id": "2gU7RlshgF3t",
        "outputId": "08abd568-c02a-4fbb-8f21-fde8ee04888b"
      },
      "execution_count": null,
      "outputs": [
        {
          "output_type": "display_data",
          "data": {
            "text/plain": [
              "<Figure size 640x480 with 1 Axes>"
            ],
            "image/png": "[encoded data removed]"
          },
          "metadata": {}
        }
      ]
    },
    {
      "cell_type": "code",
      "source": [
        "plt.bar(labels, cost)\n",
        "\n",
        "plt.title('Heuristics')\n",
        "plt.xlabel('Categories')\n",
        "plt.ylabel('Cost')\n",
        "\n",
        "# Show chart\n",
        "plt.show()"
      ],
      "metadata": {
        "colab": {
          "base_uri": "https://localhost:8080/",
          "height": 472
        },
        "id": "T7W3ZfMElD0N",
        "outputId": "735c4e09-2f5f-4ad2-e97b-5e0ca739c234"
      },
      "execution_count": null,
      "outputs": [
        {
          "output_type": "display_data",
          "data": {
            "text/plain": [
              "<Figure size 640x480 with 1 Axes>"
            ],
            "image/png": "[encoded data removed]"
          },
          "metadata": {}
        }
      ]
    },
    {
      "cell_type": "markdown",
      "source": [
        "**Conclusion:**  \n",
        "The optimal path determined is the same except for the `linear conflict` heuristic. The reason being that it is not admissible. Hence, it ends up getting larger path to the goal."
      ],
      "metadata": {
        "id": "7vMsgCO_lejH"
      }
    }
  ]
}